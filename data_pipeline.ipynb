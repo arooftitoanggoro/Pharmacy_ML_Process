{
 "cells": [
  {
   "cell_type": "code",
   "execution_count": 18,
   "metadata": {},
   "outputs": [],
   "source": [
    "from sklearn.model_selection import train_test_split\n",
    "from tqdm import tqdm\n",
    "import pandas as pd\n",
    "import os\n",
    "import copy\n",
    "import src.util as util"
   ]
  },
  {
   "attachments": {},
   "cell_type": "markdown",
   "metadata": {},
   "source": [
    "## 1. Load Configuration File"
   ]
  },
  {
   "cell_type": "code",
   "execution_count": 19,
   "metadata": {},
   "outputs": [],
   "source": [
    "config = util.load_config()\n"
   ]
  },
  {
   "attachments": {},
   "cell_type": "markdown",
   "metadata": {},
   "source": [
    "## 2. Data Collection"
   ]
  },
  {
   "cell_type": "code",
   "execution_count": 20,
   "metadata": {},
   "outputs": [],
   "source": [
    "def read_raw_data(config: dict) -> pd.DataFrame:\n",
    "    # Create variable to store raw dataset\n",
    "    raw_dataset = pd.DataFrame()\n",
    "\n",
    "    # Raw dataset dir\n",
    "    raw_dataset_dir = config[\"raw_dataset_dir\"]\n",
    "\n",
    "    # Look and load add CSV files\n",
    "    for i in tqdm(os.listdir(raw_dataset_dir)):\n",
    "        raw_dataset = pd.concat([pd.read_csv(raw_dataset_dir + i), raw_dataset])\n",
    "    \n",
    "    # Return raw dataset\n",
    "    return raw_dataset"
   ]
  },
  {
   "cell_type": "code",
   "execution_count": 21,
   "metadata": {},
   "outputs": [
    {
     "name": "stderr",
     "output_type": "stream",
     "text": [
      "100%|██████████| 1/1 [00:00<00:00,  9.03it/s]\n"
     ]
    }
   ],
   "source": [
    "raw_dataset = read_raw_data(config)"
   ]
  },
  {
   "cell_type": "code",
   "execution_count": 22,
   "metadata": {},
   "outputs": [
    {
     "data": {
      "text/html": [
       "<div>\n",
       "<style scoped>\n",
       "    .dataframe tbody tr th:only-of-type {\n",
       "        vertical-align: middle;\n",
       "    }\n",
       "\n",
       "    .dataframe tbody tr th {\n",
       "        vertical-align: top;\n",
       "    }\n",
       "\n",
       "    .dataframe thead th {\n",
       "        text-align: right;\n",
       "    }\n",
       "</style>\n",
       "<table border=\"1\" class=\"dataframe\">\n",
       "  <thead>\n",
       "    <tr style=\"text-align: right;\">\n",
       "      <th></th>\n",
       "      <th>Row ID</th>\n",
       "      <th>Order ID</th>\n",
       "      <th>Order Date</th>\n",
       "      <th>Ship Date</th>\n",
       "      <th>Ship Mode</th>\n",
       "      <th>Customer ID</th>\n",
       "      <th>Customer Name</th>\n",
       "      <th>Segment</th>\n",
       "      <th>Country</th>\n",
       "      <th>City</th>\n",
       "      <th>State</th>\n",
       "      <th>Region</th>\n",
       "      <th>Product ID</th>\n",
       "      <th>Category</th>\n",
       "      <th>Sub-Category</th>\n",
       "      <th>Product Name</th>\n",
       "      <th>Sales</th>\n",
       "      <th>Quantity</th>\n",
       "      <th>Discount</th>\n",
       "      <th>Profit</th>\n",
       "    </tr>\n",
       "  </thead>\n",
       "  <tbody>\n",
       "    <tr>\n",
       "      <th>0</th>\n",
       "      <td>1</td>\n",
       "      <td>CA-2016-152156</td>\n",
       "      <td>11/8/2016</td>\n",
       "      <td>11/11/2016</td>\n",
       "      <td>Second Class</td>\n",
       "      <td>CG-12520</td>\n",
       "      <td>Pharmacy-1</td>\n",
       "      <td>Pharmacy</td>\n",
       "      <td>Indonesia</td>\n",
       "      <td>Nusa Barat-14</td>\n",
       "      <td>Nusa Barat</td>\n",
       "      <td>Bali Nusa</td>\n",
       "      <td>BO-10001798</td>\n",
       "      <td>Respi</td>\n",
       "      <td>Respi/A</td>\n",
       "      <td>Respi/ABO-10001798</td>\n",
       "      <td>261.9600</td>\n",
       "      <td>2</td>\n",
       "      <td>0.00</td>\n",
       "      <td>41.9136</td>\n",
       "    </tr>\n",
       "    <tr>\n",
       "      <th>1</th>\n",
       "      <td>2</td>\n",
       "      <td>CA-2016-152156</td>\n",
       "      <td>11/8/2016</td>\n",
       "      <td>11/11/2016</td>\n",
       "      <td>Second Class</td>\n",
       "      <td>CG-12520</td>\n",
       "      <td>Pharmacy-1</td>\n",
       "      <td>Pharmacy</td>\n",
       "      <td>Indonesia</td>\n",
       "      <td>Nusa Barat-14</td>\n",
       "      <td>Nusa Barat</td>\n",
       "      <td>Bali Nusa</td>\n",
       "      <td>CH-10000454</td>\n",
       "      <td>Respi</td>\n",
       "      <td>Respi/B</td>\n",
       "      <td>Respi/BCH-10000454</td>\n",
       "      <td>731.9400</td>\n",
       "      <td>3</td>\n",
       "      <td>0.00</td>\n",
       "      <td>219.5820</td>\n",
       "    </tr>\n",
       "    <tr>\n",
       "      <th>2</th>\n",
       "      <td>3</td>\n",
       "      <td>CA-2016-138688</td>\n",
       "      <td>6/12/2016</td>\n",
       "      <td>6/16/2016</td>\n",
       "      <td>Second Class</td>\n",
       "      <td>DV-13045</td>\n",
       "      <td>Hospital-1</td>\n",
       "      <td>Hospital</td>\n",
       "      <td>Indonesia</td>\n",
       "      <td>Jawa Barat-144</td>\n",
       "      <td>Jawa Barat</td>\n",
       "      <td>Jawa</td>\n",
       "      <td>LA-10000240</td>\n",
       "      <td>Hyper</td>\n",
       "      <td>Hyper/F</td>\n",
       "      <td>Hyper/FLA-10000240</td>\n",
       "      <td>14.6200</td>\n",
       "      <td>2</td>\n",
       "      <td>0.00</td>\n",
       "      <td>6.8714</td>\n",
       "    </tr>\n",
       "    <tr>\n",
       "      <th>3</th>\n",
       "      <td>4</td>\n",
       "      <td>US-2015-108966</td>\n",
       "      <td>10/11/2015</td>\n",
       "      <td>10/18/2015</td>\n",
       "      <td>Standard Class</td>\n",
       "      <td>SO-20335</td>\n",
       "      <td>Pharmacy-2</td>\n",
       "      <td>Pharmacy</td>\n",
       "      <td>Indonesia</td>\n",
       "      <td>Banten-38</td>\n",
       "      <td>Banten</td>\n",
       "      <td>Jawa</td>\n",
       "      <td>TA-10000577</td>\n",
       "      <td>Respi</td>\n",
       "      <td>Respi/D</td>\n",
       "      <td>Respi/DTA-10000577</td>\n",
       "      <td>957.5775</td>\n",
       "      <td>5</td>\n",
       "      <td>0.45</td>\n",
       "      <td>-383.0310</td>\n",
       "    </tr>\n",
       "    <tr>\n",
       "      <th>4</th>\n",
       "      <td>5</td>\n",
       "      <td>US-2015-108966</td>\n",
       "      <td>10/11/2015</td>\n",
       "      <td>10/18/2015</td>\n",
       "      <td>Standard Class</td>\n",
       "      <td>SO-20335</td>\n",
       "      <td>Pharmacy-2</td>\n",
       "      <td>Pharmacy</td>\n",
       "      <td>Indonesia</td>\n",
       "      <td>Banten-38</td>\n",
       "      <td>Banten</td>\n",
       "      <td>Jawa</td>\n",
       "      <td>ST-10000760</td>\n",
       "      <td>Hyper</td>\n",
       "      <td>Hyper/H</td>\n",
       "      <td>Hyper/HST-10000760</td>\n",
       "      <td>22.3680</td>\n",
       "      <td>2</td>\n",
       "      <td>0.20</td>\n",
       "      <td>2.5164</td>\n",
       "    </tr>\n",
       "    <tr>\n",
       "      <th>...</th>\n",
       "      <td>...</td>\n",
       "      <td>...</td>\n",
       "      <td>...</td>\n",
       "      <td>...</td>\n",
       "      <td>...</td>\n",
       "      <td>...</td>\n",
       "      <td>...</td>\n",
       "      <td>...</td>\n",
       "      <td>...</td>\n",
       "      <td>...</td>\n",
       "      <td>...</td>\n",
       "      <td>...</td>\n",
       "      <td>...</td>\n",
       "      <td>...</td>\n",
       "      <td>...</td>\n",
       "      <td>...</td>\n",
       "      <td>...</td>\n",
       "      <td>...</td>\n",
       "      <td>...</td>\n",
       "      <td>...</td>\n",
       "    </tr>\n",
       "    <tr>\n",
       "      <th>9989</th>\n",
       "      <td>9990</td>\n",
       "      <td>CA-2014-110422</td>\n",
       "      <td>1/21/2014</td>\n",
       "      <td>1/23/2014</td>\n",
       "      <td>Second Class</td>\n",
       "      <td>TB-21400</td>\n",
       "      <td>Pharmacy-249</td>\n",
       "      <td>Pharmacy</td>\n",
       "      <td>Indonesia</td>\n",
       "      <td>Banten-34</td>\n",
       "      <td>Banten</td>\n",
       "      <td>Jawa</td>\n",
       "      <td>FU-10001889</td>\n",
       "      <td>Respi</td>\n",
       "      <td>Respi/C</td>\n",
       "      <td>Respi/CFU-10001889</td>\n",
       "      <td>25.2480</td>\n",
       "      <td>3</td>\n",
       "      <td>0.20</td>\n",
       "      <td>4.1028</td>\n",
       "    </tr>\n",
       "    <tr>\n",
       "      <th>9990</th>\n",
       "      <td>9991</td>\n",
       "      <td>CA-2017-121258</td>\n",
       "      <td>2/26/2017</td>\n",
       "      <td>3/3/2017</td>\n",
       "      <td>Standard Class</td>\n",
       "      <td>DB-13060</td>\n",
       "      <td>Pharmacy-37</td>\n",
       "      <td>Pharmacy</td>\n",
       "      <td>Indonesia</td>\n",
       "      <td>Jawa Barat-172</td>\n",
       "      <td>Jawa Barat</td>\n",
       "      <td>Jawa</td>\n",
       "      <td>FU-10000747</td>\n",
       "      <td>Respi</td>\n",
       "      <td>Respi/C</td>\n",
       "      <td>Respi/CFU-10000747</td>\n",
       "      <td>91.9600</td>\n",
       "      <td>2</td>\n",
       "      <td>0.00</td>\n",
       "      <td>15.6332</td>\n",
       "    </tr>\n",
       "    <tr>\n",
       "      <th>9991</th>\n",
       "      <td>9992</td>\n",
       "      <td>CA-2017-121258</td>\n",
       "      <td>2/26/2017</td>\n",
       "      <td>3/3/2017</td>\n",
       "      <td>Standard Class</td>\n",
       "      <td>DB-13060</td>\n",
       "      <td>Pharmacy-37</td>\n",
       "      <td>Pharmacy</td>\n",
       "      <td>Indonesia</td>\n",
       "      <td>Jawa Barat-172</td>\n",
       "      <td>Jawa Barat</td>\n",
       "      <td>Jawa</td>\n",
       "      <td>PH-10003645</td>\n",
       "      <td>Diabet</td>\n",
       "      <td>Diabet/D</td>\n",
       "      <td>Diabet/DPH-10003645</td>\n",
       "      <td>258.5760</td>\n",
       "      <td>2</td>\n",
       "      <td>0.20</td>\n",
       "      <td>19.3932</td>\n",
       "    </tr>\n",
       "    <tr>\n",
       "      <th>9992</th>\n",
       "      <td>9993</td>\n",
       "      <td>CA-2017-121258</td>\n",
       "      <td>2/26/2017</td>\n",
       "      <td>3/3/2017</td>\n",
       "      <td>Standard Class</td>\n",
       "      <td>DB-13060</td>\n",
       "      <td>Pharmacy-37</td>\n",
       "      <td>Pharmacy</td>\n",
       "      <td>Indonesia</td>\n",
       "      <td>Jawa Barat-172</td>\n",
       "      <td>Jawa Barat</td>\n",
       "      <td>Jawa</td>\n",
       "      <td>PA-10004041</td>\n",
       "      <td>Hyper</td>\n",
       "      <td>Hyper/G</td>\n",
       "      <td>Hyper/GPA-10004041</td>\n",
       "      <td>29.6000</td>\n",
       "      <td>4</td>\n",
       "      <td>0.00</td>\n",
       "      <td>13.3200</td>\n",
       "    </tr>\n",
       "    <tr>\n",
       "      <th>9993</th>\n",
       "      <td>9994</td>\n",
       "      <td>CA-2017-119914</td>\n",
       "      <td>5/4/2017</td>\n",
       "      <td>5/9/2017</td>\n",
       "      <td>Second Class</td>\n",
       "      <td>CC-12220</td>\n",
       "      <td>Pharmacy-218</td>\n",
       "      <td>Pharmacy</td>\n",
       "      <td>Indonesia</td>\n",
       "      <td>Jawa Barat-156</td>\n",
       "      <td>Jawa Barat</td>\n",
       "      <td>Jawa</td>\n",
       "      <td>AP-10002684</td>\n",
       "      <td>Hyper</td>\n",
       "      <td>Hyper/A</td>\n",
       "      <td>Hyper/AAP-10002684</td>\n",
       "      <td>243.1600</td>\n",
       "      <td>2</td>\n",
       "      <td>0.00</td>\n",
       "      <td>72.9480</td>\n",
       "    </tr>\n",
       "  </tbody>\n",
       "</table>\n",
       "<p>9994 rows × 20 columns</p>\n",
       "</div>"
      ],
      "text/plain": [
       "      Row ID        Order ID  Order Date   Ship Date       Ship Mode  \\\n",
       "0          1  CA-2016-152156   11/8/2016  11/11/2016    Second Class   \n",
       "1          2  CA-2016-152156   11/8/2016  11/11/2016    Second Class   \n",
       "2          3  CA-2016-138688   6/12/2016   6/16/2016    Second Class   \n",
       "3          4  US-2015-108966  10/11/2015  10/18/2015  Standard Class   \n",
       "4          5  US-2015-108966  10/11/2015  10/18/2015  Standard Class   \n",
       "...      ...             ...         ...         ...             ...   \n",
       "9989    9990  CA-2014-110422   1/21/2014   1/23/2014    Second Class   \n",
       "9990    9991  CA-2017-121258   2/26/2017    3/3/2017  Standard Class   \n",
       "9991    9992  CA-2017-121258   2/26/2017    3/3/2017  Standard Class   \n",
       "9992    9993  CA-2017-121258   2/26/2017    3/3/2017  Standard Class   \n",
       "9993    9994  CA-2017-119914    5/4/2017    5/9/2017    Second Class   \n",
       "\n",
       "     Customer ID Customer Name   Segment    Country            City  \\\n",
       "0       CG-12520    Pharmacy-1  Pharmacy  Indonesia   Nusa Barat-14   \n",
       "1       CG-12520    Pharmacy-1  Pharmacy  Indonesia   Nusa Barat-14   \n",
       "2       DV-13045    Hospital-1  Hospital  Indonesia  Jawa Barat-144   \n",
       "3       SO-20335    Pharmacy-2  Pharmacy  Indonesia       Banten-38   \n",
       "4       SO-20335    Pharmacy-2  Pharmacy  Indonesia       Banten-38   \n",
       "...          ...           ...       ...        ...             ...   \n",
       "9989    TB-21400  Pharmacy-249  Pharmacy  Indonesia       Banten-34   \n",
       "9990    DB-13060   Pharmacy-37  Pharmacy  Indonesia  Jawa Barat-172   \n",
       "9991    DB-13060   Pharmacy-37  Pharmacy  Indonesia  Jawa Barat-172   \n",
       "9992    DB-13060   Pharmacy-37  Pharmacy  Indonesia  Jawa Barat-172   \n",
       "9993    CC-12220  Pharmacy-218  Pharmacy  Indonesia  Jawa Barat-156   \n",
       "\n",
       "           State     Region   Product ID Category Sub-Category  \\\n",
       "0     Nusa Barat  Bali Nusa  BO-10001798    Respi      Respi/A   \n",
       "1     Nusa Barat  Bali Nusa  CH-10000454    Respi      Respi/B   \n",
       "2     Jawa Barat       Jawa  LA-10000240    Hyper      Hyper/F   \n",
       "3         Banten       Jawa  TA-10000577    Respi      Respi/D   \n",
       "4         Banten       Jawa  ST-10000760    Hyper      Hyper/H   \n",
       "...          ...        ...          ...      ...          ...   \n",
       "9989      Banten       Jawa  FU-10001889    Respi      Respi/C   \n",
       "9990  Jawa Barat       Jawa  FU-10000747    Respi      Respi/C   \n",
       "9991  Jawa Barat       Jawa  PH-10003645   Diabet     Diabet/D   \n",
       "9992  Jawa Barat       Jawa  PA-10004041    Hyper      Hyper/G   \n",
       "9993  Jawa Barat       Jawa  AP-10002684    Hyper      Hyper/A   \n",
       "\n",
       "             Product Name     Sales  Quantity  Discount    Profit  \n",
       "0      Respi/ABO-10001798  261.9600         2      0.00   41.9136  \n",
       "1      Respi/BCH-10000454  731.9400         3      0.00  219.5820  \n",
       "2      Hyper/FLA-10000240   14.6200         2      0.00    6.8714  \n",
       "3      Respi/DTA-10000577  957.5775         5      0.45 -383.0310  \n",
       "4      Hyper/HST-10000760   22.3680         2      0.20    2.5164  \n",
       "...                   ...       ...       ...       ...       ...  \n",
       "9989   Respi/CFU-10001889   25.2480         3      0.20    4.1028  \n",
       "9990   Respi/CFU-10000747   91.9600         2      0.00   15.6332  \n",
       "9991  Diabet/DPH-10003645  258.5760         2      0.20   19.3932  \n",
       "9992   Hyper/GPA-10004041   29.6000         4      0.00   13.3200  \n",
       "9993   Hyper/AAP-10002684  243.1600         2      0.00   72.9480  \n",
       "\n",
       "[9994 rows x 20 columns]"
      ]
     },
     "execution_count": 22,
     "metadata": {},
     "output_type": "execute_result"
    }
   ],
   "source": [
    "# Check our data\n",
    "raw_dataset"
   ]
  },
  {
   "cell_type": "code",
   "execution_count": 23,
   "metadata": {},
   "outputs": [],
   "source": [
    "# Save raw dataset to file\n",
    "util.pickle_dump(raw_dataset, config[\"raw_dataset_path\"])"
   ]
  },
  {
   "attachments": {},
   "cell_type": "markdown",
   "metadata": {},
   "source": [
    "## 3. Data Validation"
   ]
  },
  {
   "cell_type": "code",
   "execution_count": 24,
   "metadata": {},
   "outputs": [
    {
     "data": {
      "text/plain": [
       "Row ID             int64\n",
       "Order ID          object\n",
       "Order Date        object\n",
       "Ship Date         object\n",
       "Ship Mode         object\n",
       "Customer ID       object\n",
       "Customer Name     object\n",
       "Segment           object\n",
       "Country           object\n",
       "City              object\n",
       "State             object\n",
       "Region            object\n",
       "Product ID        object\n",
       "Category          object\n",
       "Sub-Category      object\n",
       "Product Name      object\n",
       "Sales            float64\n",
       "Quantity           int64\n",
       "Discount         float64\n",
       "Profit           float64\n",
       "dtype: object"
      ]
     },
     "execution_count": 24,
     "metadata": {},
     "output_type": "execute_result"
    }
   ],
   "source": [
    "# Check data type each variable\n",
    "raw_dataset.dtypes"
   ]
  },
  {
   "cell_type": "code",
   "execution_count": 25,
   "metadata": {},
   "outputs": [
    {
     "data": {
      "text/html": [
       "<div>\n",
       "<style scoped>\n",
       "    .dataframe tbody tr th:only-of-type {\n",
       "        vertical-align: middle;\n",
       "    }\n",
       "\n",
       "    .dataframe tbody tr th {\n",
       "        vertical-align: top;\n",
       "    }\n",
       "\n",
       "    .dataframe thead th {\n",
       "        text-align: right;\n",
       "    }\n",
       "</style>\n",
       "<table border=\"1\" class=\"dataframe\">\n",
       "  <thead>\n",
       "    <tr style=\"text-align: right;\">\n",
       "      <th></th>\n",
       "      <th>Row ID</th>\n",
       "      <th>Sales</th>\n",
       "      <th>Quantity</th>\n",
       "      <th>Discount</th>\n",
       "      <th>Profit</th>\n",
       "    </tr>\n",
       "  </thead>\n",
       "  <tbody>\n",
       "    <tr>\n",
       "      <th>count</th>\n",
       "      <td>9994.000000</td>\n",
       "      <td>9994.000000</td>\n",
       "      <td>9994.000000</td>\n",
       "      <td>9994.000000</td>\n",
       "      <td>9994.000000</td>\n",
       "    </tr>\n",
       "    <tr>\n",
       "      <th>mean</th>\n",
       "      <td>4997.500000</td>\n",
       "      <td>229.858001</td>\n",
       "      <td>3.789574</td>\n",
       "      <td>0.156203</td>\n",
       "      <td>28.656896</td>\n",
       "    </tr>\n",
       "    <tr>\n",
       "      <th>std</th>\n",
       "      <td>2885.163629</td>\n",
       "      <td>623.245101</td>\n",
       "      <td>2.225110</td>\n",
       "      <td>0.206452</td>\n",
       "      <td>234.260108</td>\n",
       "    </tr>\n",
       "    <tr>\n",
       "      <th>min</th>\n",
       "      <td>1.000000</td>\n",
       "      <td>0.444000</td>\n",
       "      <td>1.000000</td>\n",
       "      <td>0.000000</td>\n",
       "      <td>-6599.978000</td>\n",
       "    </tr>\n",
       "    <tr>\n",
       "      <th>25%</th>\n",
       "      <td>2499.250000</td>\n",
       "      <td>17.280000</td>\n",
       "      <td>2.000000</td>\n",
       "      <td>0.000000</td>\n",
       "      <td>1.728750</td>\n",
       "    </tr>\n",
       "    <tr>\n",
       "      <th>50%</th>\n",
       "      <td>4997.500000</td>\n",
       "      <td>54.490000</td>\n",
       "      <td>3.000000</td>\n",
       "      <td>0.200000</td>\n",
       "      <td>8.666500</td>\n",
       "    </tr>\n",
       "    <tr>\n",
       "      <th>75%</th>\n",
       "      <td>7495.750000</td>\n",
       "      <td>209.940000</td>\n",
       "      <td>5.000000</td>\n",
       "      <td>0.200000</td>\n",
       "      <td>29.364000</td>\n",
       "    </tr>\n",
       "    <tr>\n",
       "      <th>max</th>\n",
       "      <td>9994.000000</td>\n",
       "      <td>22638.480000</td>\n",
       "      <td>14.000000</td>\n",
       "      <td>0.800000</td>\n",
       "      <td>8399.976000</td>\n",
       "    </tr>\n",
       "  </tbody>\n",
       "</table>\n",
       "</div>"
      ],
      "text/plain": [
       "            Row ID         Sales     Quantity     Discount       Profit\n",
       "count  9994.000000   9994.000000  9994.000000  9994.000000  9994.000000\n",
       "mean   4997.500000    229.858001     3.789574     0.156203    28.656896\n",
       "std    2885.163629    623.245101     2.225110     0.206452   234.260108\n",
       "min       1.000000      0.444000     1.000000     0.000000 -6599.978000\n",
       "25%    2499.250000     17.280000     2.000000     0.000000     1.728750\n",
       "50%    4997.500000     54.490000     3.000000     0.200000     8.666500\n",
       "75%    7495.750000    209.940000     5.000000     0.200000    29.364000\n",
       "max    9994.000000  22638.480000    14.000000     0.800000  8399.976000"
      ]
     },
     "execution_count": 25,
     "metadata": {},
     "output_type": "execute_result"
    }
   ],
   "source": [
    "# Check the range of data for each variable\n",
    "raw_dataset.describe()"
   ]
  },
  {
   "cell_type": "code",
   "execution_count": 26,
   "metadata": {},
   "outputs": [
    {
     "data": {
      "text/plain": [
       "(9994, 20)"
      ]
     },
     "execution_count": 26,
     "metadata": {},
     "output_type": "execute_result"
    }
   ],
   "source": [
    "# It will not be affected\n",
    "raw_dataset.shape"
   ]
  },
  {
   "attachments": {},
   "cell_type": "markdown",
   "metadata": {},
   "source": [
    "### 3.1. Handling Variables Error"
   ]
  },
  {
   "attachments": {},
   "cell_type": "markdown",
   "metadata": {},
   "source": [
    "#### 3.1.1. Handing Variabel \"date\""
   ]
  },
  {
   "cell_type": "code",
   "execution_count": 27,
   "metadata": {},
   "outputs": [],
   "source": [
    "# Try to cast data in variable date to datetime\n",
    "#raw_dataset['Order Date'] = pd.to_datetime(raw_dataset['Order Date'])\n",
    "#raw_dataset['Ship Date'] = pd.to_datetime(raw_dataset['Ship Date'])"
   ]
  },
  {
   "attachments": {},
   "cell_type": "markdown",
   "metadata": {},
   "source": [
    "#### 3.1.2. Remove Variabel \"Row ID\""
   ]
  },
  {
   "cell_type": "code",
   "execution_count": 28,
   "metadata": {},
   "outputs": [],
   "source": [
    "raw_dataset = raw_dataset.drop(\"Row ID\", axis=1)\n",
    "raw_dataset = raw_dataset.drop(\"Order Date\", axis=1)\n",
    "raw_dataset = raw_dataset.drop(\"Ship Date\", axis=1)\n"
   ]
  },
  {
   "attachments": {},
   "cell_type": "markdown",
   "metadata": {},
   "source": [
    "#### 3.1.3. Handle Variabel \"Quantity\""
   ]
  },
  {
   "cell_type": "code",
   "execution_count": 29,
   "metadata": {},
   "outputs": [],
   "source": [
    "raw_dataset[\"Quantity\"] = raw_dataset[\"Quantity\"].astype(\"float64\")"
   ]
  },
  {
   "cell_type": "code",
   "execution_count": 30,
   "metadata": {},
   "outputs": [
    {
     "name": "stdout",
     "output_type": "stream",
     "text": [
      "<class 'pandas.core.frame.DataFrame'>\n",
      "RangeIndex: 9994 entries, 0 to 9993\n",
      "Data columns (total 17 columns):\n",
      " #   Column         Non-Null Count  Dtype  \n",
      "---  ------         --------------  -----  \n",
      " 0   Order ID       9994 non-null   object \n",
      " 1   Ship Mode      9994 non-null   object \n",
      " 2   Customer ID    9994 non-null   object \n",
      " 3   Customer Name  9994 non-null   object \n",
      " 4   Segment        9994 non-null   object \n",
      " 5   Country        9994 non-null   object \n",
      " 6   City           9994 non-null   object \n",
      " 7   State          9994 non-null   object \n",
      " 8   Region         9994 non-null   object \n",
      " 9   Product ID     9994 non-null   object \n",
      " 10  Category       9994 non-null   object \n",
      " 11  Sub-Category   9994 non-null   object \n",
      " 12  Product Name   9994 non-null   object \n",
      " 13  Sales          9994 non-null   float64\n",
      " 14  Quantity       9994 non-null   float64\n",
      " 15  Discount       9994 non-null   float64\n",
      " 16  Profit         9994 non-null   float64\n",
      "dtypes: float64(4), object(13)\n",
      "memory usage: 1.3+ MB\n"
     ]
    }
   ],
   "source": [
    "# Check the result\n",
    "raw_dataset.info()"
   ]
  },
  {
   "cell_type": "code",
   "execution_count": 31,
   "metadata": {},
   "outputs": [],
   "source": [
    "# all data types are appropriate, we can save them so that they can be used again later\n",
    "util.pickle_dump(raw_dataset, config[\"cleaned_raw_dataset_path\"])"
   ]
  },
  {
   "attachments": {},
   "cell_type": "markdown",
   "metadata": {},
   "source": [
    "## 4. Data Defense"
   ]
  },
  {
   "cell_type": "code",
   "execution_count": 32,
   "metadata": {},
   "outputs": [],
   "source": [
    "def check_data(input_data, params):\n",
    "    # Check data types\n",
    "    #assert input_data.select_dtypes(\"datetime\").columns.to_list() == params[\"datetime_columns\"], \"an error occurs in datetime column(s).\"\n",
    "    assert input_data.select_dtypes(\"object\").columns.to_list() == params[\"object_columns\"], \"an error occurs in object column(s).\"\n",
    "    assert input_data.select_dtypes(\"float\").columns.to_list() == params[\"float64_columns\"], \"an error occurs in float64 column(s).\"\n",
    "\n",
    "    # Check range of data\n",
    "    assert input_data.Quantity.between(params[\"range_Quantity\"][0], params[\"range_Quantity\"][1]).sum() == len(input_data), \"an error occurs in Quantity range.\"\n",
    "    assert input_data.Sales.between(params[\"range_Sales\"][0], params[\"range_Sales\"][1]).sum() == len(input_data), \"an error occurs in Sales range.\"\n",
    "    assert input_data.Discount.between(params[\"range_Discount\"][0], params[\"range_Discount\"][1]).sum() == len(input_data), \"an error occurs in Discount range.\"\n",
    "    assert input_data.Profit.between(params[\"range_Profit\"][0], params[\"range_Profit\"][1]).sum() == len(input_data), \"an error occurs in Profit range.\""
   ]
  },
  {
   "cell_type": "code",
   "execution_count": 33,
   "metadata": {},
   "outputs": [],
   "source": [
    "check_data(raw_dataset, config)"
   ]
  },
  {
   "attachments": {},
   "cell_type": "markdown",
   "metadata": {},
   "source": [
    "## 5. Data Splitting"
   ]
  },
  {
   "cell_type": "code",
   "execution_count": 34,
   "metadata": {},
   "outputs": [],
   "source": [
    "# Split input/variable/feature with target/labet/output\n",
    "x = raw_dataset[config[\"predictors\"]].copy()\n",
    "y = raw_dataset.Profit.copy()"
   ]
  },
  {
   "cell_type": "code",
   "execution_count": 35,
   "metadata": {},
   "outputs": [
    {
     "data": {
      "text/plain": [
       "['Ship Mode',\n",
       " 'Customer ID',\n",
       " 'Customer Name',\n",
       " 'Segment',\n",
       " 'Country',\n",
       " 'City',\n",
       " 'State',\n",
       " 'Region',\n",
       " 'Product ID',\n",
       " 'Category',\n",
       " 'Sub-Category',\n",
       " 'Product Name',\n",
       " 'Sales',\n",
       " 'Quantity',\n",
       " 'Discount']"
      ]
     },
     "execution_count": 35,
     "metadata": {},
     "output_type": "execute_result"
    }
   ],
   "source": [
    "config[\"predictors\"]"
   ]
  },
  {
   "cell_type": "code",
   "execution_count": 36,
   "metadata": {},
   "outputs": [
    {
     "name": "stdout",
     "output_type": "stream",
     "text": [
      "<class 'pandas.core.frame.DataFrame'>\n",
      "RangeIndex: 9994 entries, 0 to 9993\n",
      "Data columns (total 15 columns):\n",
      " #   Column         Non-Null Count  Dtype  \n",
      "---  ------         --------------  -----  \n",
      " 0   Ship Mode      9994 non-null   object \n",
      " 1   Customer ID    9994 non-null   object \n",
      " 2   Customer Name  9994 non-null   object \n",
      " 3   Segment        9994 non-null   object \n",
      " 4   Country        9994 non-null   object \n",
      " 5   City           9994 non-null   object \n",
      " 6   State          9994 non-null   object \n",
      " 7   Region         9994 non-null   object \n",
      " 8   Product ID     9994 non-null   object \n",
      " 9   Category       9994 non-null   object \n",
      " 10  Sub-Category   9994 non-null   object \n",
      " 11  Product Name   9994 non-null   object \n",
      " 12  Sales          9994 non-null   float64\n",
      " 13  Quantity       9994 non-null   float64\n",
      " 14  Discount       9994 non-null   float64\n",
      "dtypes: float64(3), object(12)\n",
      "memory usage: 1.1+ MB\n"
     ]
    }
   ],
   "source": [
    "x.info()"
   ]
  },
  {
   "cell_type": "code",
   "execution_count": 37,
   "metadata": {},
   "outputs": [
    {
     "data": {
      "text/plain": [
       "0.0000     65\n",
       "6.2208     43\n",
       "9.3312     38\n",
       "5.4432     32\n",
       "3.6288     32\n",
       "           ..\n",
       "83.2508     1\n",
       "16.1096     1\n",
       "7.1988      1\n",
       "1.6510      1\n",
       "72.9480     1\n",
       "Name: Profit, Length: 7287, dtype: int64"
      ]
     },
     "execution_count": 37,
     "metadata": {},
     "output_type": "execute_result"
    }
   ],
   "source": [
    "y.value_counts()"
   ]
  },
  {
   "cell_type": "code",
   "execution_count": 38,
   "metadata": {},
   "outputs": [],
   "source": [
    "# First split, splitting train and test set with ratio 0.7:0.3 and do stratify splitting\n",
    "x_train, x_test, y_train, y_test = train_test_split(x, y, test_size = 0.3, random_state = 123)"
   ]
  },
  {
   "cell_type": "code",
   "execution_count": 39,
   "metadata": {},
   "outputs": [],
   "source": [
    "# Second split, splitting test and valid set with ratio 0.5:0.5 and do stratify splitting\n",
    "x_valid, x_test, y_valid, y_test = train_test_split(x_test, y_test, test_size = 0.5, random_state = 123)"
   ]
  },
  {
   "cell_type": "code",
   "execution_count": 40,
   "metadata": {},
   "outputs": [],
   "source": [
    "util.pickle_dump(x_train, config[\"train_set_path\"][0])\n",
    "util.pickle_dump(y_train, config[\"train_set_path\"][1])\n",
    "\n",
    "util.pickle_dump(x_valid, config[\"valid_set_path\"][0])\n",
    "util.pickle_dump(y_valid, config[\"valid_set_path\"][1])\n",
    "\n",
    "util.pickle_dump(x_test, config[\"test_set_path\"][0])\n",
    "util.pickle_dump(y_test, config[\"test_set_path\"][1])"
   ]
  }
 ],
 "metadata": {
  "kernelspec": {
   "display_name": "Python 3",
   "language": "python",
   "name": "python3"
  },
  "language_info": {
   "codemirror_mode": {
    "name": "ipython",
    "version": 3
   },
   "file_extension": ".py",
   "mimetype": "text/x-python",
   "name": "python",
   "nbconvert_exporter": "python",
   "pygments_lexer": "ipython3",
   "version": "3.9.13"
  },
  "orig_nbformat": 4
 },
 "nbformat": 4,
 "nbformat_minor": 2
}
